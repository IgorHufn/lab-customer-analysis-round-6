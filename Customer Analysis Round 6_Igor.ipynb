{
 "cells": [
  {
   "cell_type": "markdown",
   "id": "b482ec8d",
   "metadata": {},
   "source": [
    "# Lab | Customer Analysis Round 6\n",
    "\n",
    "For this lab, we still keep using the marketing_customer_analysis.csv file that you can find in the files_for_lab folder.\n",
    "\n",
    "Get the data\n",
    "\n",
    "We are using the marketing_customer_analysis.csv file.\n",
    "\n",
    "Dealing with the data\n",
    "\n",
    "Already done in the round 2.\n",
    "\n",
    "Explore the data\n",
    "\n",
    "Done in the round 3.\n",
    "\n",
    "Processing Data\n",
    "\n",
    "(Further processing...)\n",
    "\n",
    "X-y split. (done)\n",
    "Normalize (numerical). (done)\n",
    "One Hot/Label Encoding (categorical).\n",
    "Concat DataFrames\n",
    "Linear Regression\n",
    "\n",
    "Train-test split.\n",
    "Apply linear regression.\n",
    "Model Validation\n",
    "\n",
    "Description:\n",
    "R2.\n",
    "MSE.\n",
    "RMSE.\n",
    "MAE."
   ]
  },
  {
   "cell_type": "code",
   "execution_count": 1,
   "id": "6ab3e8ec",
   "metadata": {},
   "outputs": [],
   "source": [
    "import pandas as pd\n",
    "import numpy as np\n",
    "import seaborn as sns\n",
    "import matplotlib.pyplot as plt"
   ]
  },
  {
   "cell_type": "code",
   "execution_count": 2,
   "id": "76e79901",
   "metadata": {},
   "outputs": [],
   "source": [
    "data = pd.read_csv('/Users/igorhufnagel/Desktop/Ironhack/LABS/Week 3/LAB_customer-analysis-round-6/lab-customer-analysis-round-6/files_for_lab/csv_files/marketing_customer_analysis.csv')"
   ]
  },
  {
   "cell_type": "code",
   "execution_count": 3,
   "id": "fa116ad9",
   "metadata": {},
   "outputs": [
    {
     "data": {
      "text/html": [
       "<div>\n",
       "<style scoped>\n",
       "    .dataframe tbody tr th:only-of-type {\n",
       "        vertical-align: middle;\n",
       "    }\n",
       "\n",
       "    .dataframe tbody tr th {\n",
       "        vertical-align: top;\n",
       "    }\n",
       "\n",
       "    .dataframe thead th {\n",
       "        text-align: right;\n",
       "    }\n",
       "</style>\n",
       "<table border=\"1\" class=\"dataframe\">\n",
       "  <thead>\n",
       "    <tr style=\"text-align: right;\">\n",
       "      <th></th>\n",
       "      <th>Customer</th>\n",
       "      <th>State</th>\n",
       "      <th>Customer Lifetime Value</th>\n",
       "      <th>Response</th>\n",
       "      <th>Coverage</th>\n",
       "      <th>Education</th>\n",
       "      <th>Effective To Date</th>\n",
       "      <th>EmploymentStatus</th>\n",
       "      <th>Gender</th>\n",
       "      <th>Income</th>\n",
       "      <th>...</th>\n",
       "      <th>Months Since Policy Inception</th>\n",
       "      <th>Number of Open Complaints</th>\n",
       "      <th>Number of Policies</th>\n",
       "      <th>Policy Type</th>\n",
       "      <th>Policy</th>\n",
       "      <th>Renew Offer Type</th>\n",
       "      <th>Sales Channel</th>\n",
       "      <th>Total Claim Amount</th>\n",
       "      <th>Vehicle Class</th>\n",
       "      <th>Vehicle Size</th>\n",
       "    </tr>\n",
       "  </thead>\n",
       "  <tbody>\n",
       "    <tr>\n",
       "      <th>0</th>\n",
       "      <td>BU79786</td>\n",
       "      <td>Washington</td>\n",
       "      <td>2763.519279</td>\n",
       "      <td>No</td>\n",
       "      <td>Basic</td>\n",
       "      <td>Bachelor</td>\n",
       "      <td>2/24/11</td>\n",
       "      <td>Employed</td>\n",
       "      <td>F</td>\n",
       "      <td>56274</td>\n",
       "      <td>...</td>\n",
       "      <td>5</td>\n",
       "      <td>0</td>\n",
       "      <td>1</td>\n",
       "      <td>Corporate Auto</td>\n",
       "      <td>Corporate L3</td>\n",
       "      <td>Offer1</td>\n",
       "      <td>Agent</td>\n",
       "      <td>384.811147</td>\n",
       "      <td>Two-Door Car</td>\n",
       "      <td>Medsize</td>\n",
       "    </tr>\n",
       "    <tr>\n",
       "      <th>1</th>\n",
       "      <td>QZ44356</td>\n",
       "      <td>Arizona</td>\n",
       "      <td>6979.535903</td>\n",
       "      <td>No</td>\n",
       "      <td>Extended</td>\n",
       "      <td>Bachelor</td>\n",
       "      <td>1/31/11</td>\n",
       "      <td>Unemployed</td>\n",
       "      <td>F</td>\n",
       "      <td>0</td>\n",
       "      <td>...</td>\n",
       "      <td>42</td>\n",
       "      <td>0</td>\n",
       "      <td>8</td>\n",
       "      <td>Personal Auto</td>\n",
       "      <td>Personal L3</td>\n",
       "      <td>Offer3</td>\n",
       "      <td>Agent</td>\n",
       "      <td>1131.464935</td>\n",
       "      <td>Four-Door Car</td>\n",
       "      <td>Medsize</td>\n",
       "    </tr>\n",
       "    <tr>\n",
       "      <th>2</th>\n",
       "      <td>AI49188</td>\n",
       "      <td>Nevada</td>\n",
       "      <td>12887.431650</td>\n",
       "      <td>No</td>\n",
       "      <td>Premium</td>\n",
       "      <td>Bachelor</td>\n",
       "      <td>2/19/11</td>\n",
       "      <td>Employed</td>\n",
       "      <td>F</td>\n",
       "      <td>48767</td>\n",
       "      <td>...</td>\n",
       "      <td>38</td>\n",
       "      <td>0</td>\n",
       "      <td>2</td>\n",
       "      <td>Personal Auto</td>\n",
       "      <td>Personal L3</td>\n",
       "      <td>Offer1</td>\n",
       "      <td>Agent</td>\n",
       "      <td>566.472247</td>\n",
       "      <td>Two-Door Car</td>\n",
       "      <td>Medsize</td>\n",
       "    </tr>\n",
       "    <tr>\n",
       "      <th>3</th>\n",
       "      <td>WW63253</td>\n",
       "      <td>California</td>\n",
       "      <td>7645.861827</td>\n",
       "      <td>No</td>\n",
       "      <td>Basic</td>\n",
       "      <td>Bachelor</td>\n",
       "      <td>1/20/11</td>\n",
       "      <td>Unemployed</td>\n",
       "      <td>M</td>\n",
       "      <td>0</td>\n",
       "      <td>...</td>\n",
       "      <td>65</td>\n",
       "      <td>0</td>\n",
       "      <td>7</td>\n",
       "      <td>Corporate Auto</td>\n",
       "      <td>Corporate L2</td>\n",
       "      <td>Offer1</td>\n",
       "      <td>Call Center</td>\n",
       "      <td>529.881344</td>\n",
       "      <td>SUV</td>\n",
       "      <td>Medsize</td>\n",
       "    </tr>\n",
       "    <tr>\n",
       "      <th>4</th>\n",
       "      <td>HB64268</td>\n",
       "      <td>Washington</td>\n",
       "      <td>2813.692575</td>\n",
       "      <td>No</td>\n",
       "      <td>Basic</td>\n",
       "      <td>Bachelor</td>\n",
       "      <td>2/3/11</td>\n",
       "      <td>Employed</td>\n",
       "      <td>M</td>\n",
       "      <td>43836</td>\n",
       "      <td>...</td>\n",
       "      <td>44</td>\n",
       "      <td>0</td>\n",
       "      <td>1</td>\n",
       "      <td>Personal Auto</td>\n",
       "      <td>Personal L1</td>\n",
       "      <td>Offer1</td>\n",
       "      <td>Agent</td>\n",
       "      <td>138.130879</td>\n",
       "      <td>Four-Door Car</td>\n",
       "      <td>Medsize</td>\n",
       "    </tr>\n",
       "  </tbody>\n",
       "</table>\n",
       "<p>5 rows × 24 columns</p>\n",
       "</div>"
      ],
      "text/plain": [
       "  Customer       State  Customer Lifetime Value Response  Coverage Education  \\\n",
       "0  BU79786  Washington              2763.519279       No     Basic  Bachelor   \n",
       "1  QZ44356     Arizona              6979.535903       No  Extended  Bachelor   \n",
       "2  AI49188      Nevada             12887.431650       No   Premium  Bachelor   \n",
       "3  WW63253  California              7645.861827       No     Basic  Bachelor   \n",
       "4  HB64268  Washington              2813.692575       No     Basic  Bachelor   \n",
       "\n",
       "  Effective To Date EmploymentStatus Gender  Income  ...  \\\n",
       "0           2/24/11         Employed      F   56274  ...   \n",
       "1           1/31/11       Unemployed      F       0  ...   \n",
       "2           2/19/11         Employed      F   48767  ...   \n",
       "3           1/20/11       Unemployed      M       0  ...   \n",
       "4            2/3/11         Employed      M   43836  ...   \n",
       "\n",
       "  Months Since Policy Inception Number of Open Complaints  Number of Policies  \\\n",
       "0                             5                         0                   1   \n",
       "1                            42                         0                   8   \n",
       "2                            38                         0                   2   \n",
       "3                            65                         0                   7   \n",
       "4                            44                         0                   1   \n",
       "\n",
       "      Policy Type        Policy  Renew Offer Type  Sales Channel  \\\n",
       "0  Corporate Auto  Corporate L3            Offer1          Agent   \n",
       "1   Personal Auto   Personal L3            Offer3          Agent   \n",
       "2   Personal Auto   Personal L3            Offer1          Agent   \n",
       "3  Corporate Auto  Corporate L2            Offer1    Call Center   \n",
       "4   Personal Auto   Personal L1            Offer1          Agent   \n",
       "\n",
       "  Total Claim Amount  Vehicle Class Vehicle Size  \n",
       "0         384.811147   Two-Door Car      Medsize  \n",
       "1        1131.464935  Four-Door Car      Medsize  \n",
       "2         566.472247   Two-Door Car      Medsize  \n",
       "3         529.881344            SUV      Medsize  \n",
       "4         138.130879  Four-Door Car      Medsize  \n",
       "\n",
       "[5 rows x 24 columns]"
      ]
     },
     "execution_count": 3,
     "metadata": {},
     "output_type": "execute_result"
    }
   ],
   "source": [
    "data.head()"
   ]
  },
  {
   "cell_type": "code",
   "execution_count": 24,
   "id": "82e8266a",
   "metadata": {},
   "outputs": [],
   "source": [
    "from sklearn.preprocessing import StandardScaler"
   ]
  },
  {
   "cell_type": "code",
   "execution_count": 35,
   "id": "59e32ba5",
   "metadata": {},
   "outputs": [],
   "source": [
    "# One Hot/Label Encoding (categorical)\n",
    "\n",
    "numericals = data.select_dtypes(include=['float64', 'int64'])"
   ]
  },
  {
   "cell_type": "code",
   "execution_count": 36,
   "id": "e2f3f779",
   "metadata": {},
   "outputs": [],
   "source": [
    "X = numericals.drop([\"Total Claim Amount\", \"Number of Open Complaints\"], axis=1)\n",
    "X = pd.DataFrame(StandardScaler().fit(X).transform(X))\n",
    "Y = numericals[\"Total Claim Amount\"]"
   ]
  },
  {
   "cell_type": "code",
   "execution_count": 37,
   "id": "3b6add8e",
   "metadata": {},
   "outputs": [],
   "source": [
    "categoricals = data.select_dtypes('object')"
   ]
  },
  {
   "cell_type": "code",
   "execution_count": 38,
   "id": "1b7ce7bc",
   "metadata": {},
   "outputs": [],
   "source": [
    "import statsmodels.api as sm\n",
    "\n",
    "from sklearn.preprocessing import OneHotEncoder"
   ]
  },
  {
   "cell_type": "code",
   "execution_count": 39,
   "id": "248511f0",
   "metadata": {},
   "outputs": [],
   "source": [
    "for col in categoricals.columns:\n",
    "    one_hot = pd.DataFrame(OneHotEncoder().fit(pd.DataFrame(categoricals[col])).transform(pd.DataFrame(categoricals[col])).toarray())"
   ]
  },
  {
   "cell_type": "code",
   "execution_count": 40,
   "id": "15c962bd",
   "metadata": {},
   "outputs": [
    {
     "data": {
      "text/html": [
       "<div>\n",
       "<style scoped>\n",
       "    .dataframe tbody tr th:only-of-type {\n",
       "        vertical-align: middle;\n",
       "    }\n",
       "\n",
       "    .dataframe tbody tr th {\n",
       "        vertical-align: top;\n",
       "    }\n",
       "\n",
       "    .dataframe thead th {\n",
       "        text-align: right;\n",
       "    }\n",
       "</style>\n",
       "<table border=\"1\" class=\"dataframe\">\n",
       "  <thead>\n",
       "    <tr style=\"text-align: right;\">\n",
       "      <th></th>\n",
       "      <th>0</th>\n",
       "      <th>1</th>\n",
       "      <th>2</th>\n",
       "    </tr>\n",
       "  </thead>\n",
       "  <tbody>\n",
       "    <tr>\n",
       "      <th>0</th>\n",
       "      <td>0.0</td>\n",
       "      <td>1.0</td>\n",
       "      <td>0.0</td>\n",
       "    </tr>\n",
       "    <tr>\n",
       "      <th>1</th>\n",
       "      <td>0.0</td>\n",
       "      <td>1.0</td>\n",
       "      <td>0.0</td>\n",
       "    </tr>\n",
       "    <tr>\n",
       "      <th>2</th>\n",
       "      <td>0.0</td>\n",
       "      <td>1.0</td>\n",
       "      <td>0.0</td>\n",
       "    </tr>\n",
       "    <tr>\n",
       "      <th>3</th>\n",
       "      <td>0.0</td>\n",
       "      <td>1.0</td>\n",
       "      <td>0.0</td>\n",
       "    </tr>\n",
       "    <tr>\n",
       "      <th>4</th>\n",
       "      <td>0.0</td>\n",
       "      <td>1.0</td>\n",
       "      <td>0.0</td>\n",
       "    </tr>\n",
       "  </tbody>\n",
       "</table>\n",
       "</div>"
      ],
      "text/plain": [
       "     0    1    2\n",
       "0  0.0  1.0  0.0\n",
       "1  0.0  1.0  0.0\n",
       "2  0.0  1.0  0.0\n",
       "3  0.0  1.0  0.0\n",
       "4  0.0  1.0  0.0"
      ]
     },
     "execution_count": 40,
     "metadata": {},
     "output_type": "execute_result"
    }
   ],
   "source": [
    "one_hot.head()"
   ]
  },
  {
   "cell_type": "code",
   "execution_count": 41,
   "id": "5ac957fb",
   "metadata": {},
   "outputs": [],
   "source": [
    "# Concat DataFrames\n",
    "\n",
    "X = pd.DataFrame(np.concatenate((X, one_hot), axis=1))"
   ]
  },
  {
   "cell_type": "code",
   "execution_count": 42,
   "id": "3ba3bf7e",
   "metadata": {},
   "outputs": [
    {
     "data": {
      "text/html": [
       "<div>\n",
       "<style scoped>\n",
       "    .dataframe tbody tr th:only-of-type {\n",
       "        vertical-align: middle;\n",
       "    }\n",
       "\n",
       "    .dataframe tbody tr th {\n",
       "        vertical-align: top;\n",
       "    }\n",
       "\n",
       "    .dataframe thead th {\n",
       "        text-align: right;\n",
       "    }\n",
       "</style>\n",
       "<table border=\"1\" class=\"dataframe\">\n",
       "  <thead>\n",
       "    <tr style=\"text-align: right;\">\n",
       "      <th></th>\n",
       "      <th>0</th>\n",
       "      <th>1</th>\n",
       "      <th>2</th>\n",
       "      <th>3</th>\n",
       "      <th>4</th>\n",
       "      <th>5</th>\n",
       "      <th>6</th>\n",
       "      <th>7</th>\n",
       "      <th>8</th>\n",
       "    </tr>\n",
       "  </thead>\n",
       "  <tbody>\n",
       "    <tr>\n",
       "      <th>0</th>\n",
       "      <td>-0.762878</td>\n",
       "      <td>0.612827</td>\n",
       "      <td>-0.703925</td>\n",
       "      <td>1.678099</td>\n",
       "      <td>-1.543287</td>\n",
       "      <td>-0.822648</td>\n",
       "      <td>0.0</td>\n",
       "      <td>1.0</td>\n",
       "      <td>0.0</td>\n",
       "    </tr>\n",
       "    <tr>\n",
       "      <th>1</th>\n",
       "      <td>-0.149245</td>\n",
       "      <td>-1.239617</td>\n",
       "      <td>0.022691</td>\n",
       "      <td>-0.208186</td>\n",
       "      <td>-0.217334</td>\n",
       "      <td>2.106160</td>\n",
       "      <td>0.0</td>\n",
       "      <td>1.0</td>\n",
       "      <td>0.0</td>\n",
       "    </tr>\n",
       "    <tr>\n",
       "      <th>2</th>\n",
       "      <td>0.710636</td>\n",
       "      <td>0.365710</td>\n",
       "      <td>0.429596</td>\n",
       "      <td>0.288205</td>\n",
       "      <td>-0.360680</td>\n",
       "      <td>-0.404247</td>\n",
       "      <td>0.0</td>\n",
       "      <td>1.0</td>\n",
       "      <td>0.0</td>\n",
       "    </tr>\n",
       "    <tr>\n",
       "      <th>3</th>\n",
       "      <td>-0.052263</td>\n",
       "      <td>-1.239617</td>\n",
       "      <td>0.371467</td>\n",
       "      <td>0.288205</td>\n",
       "      <td>0.606907</td>\n",
       "      <td>1.687759</td>\n",
       "      <td>0.0</td>\n",
       "      <td>1.0</td>\n",
       "      <td>0.0</td>\n",
       "    </tr>\n",
       "    <tr>\n",
       "      <th>4</th>\n",
       "      <td>-0.755575</td>\n",
       "      <td>0.203390</td>\n",
       "      <td>-0.587666</td>\n",
       "      <td>-0.307465</td>\n",
       "      <td>-0.145661</td>\n",
       "      <td>-0.822648</td>\n",
       "      <td>0.0</td>\n",
       "      <td>1.0</td>\n",
       "      <td>0.0</td>\n",
       "    </tr>\n",
       "  </tbody>\n",
       "</table>\n",
       "</div>"
      ],
      "text/plain": [
       "          0         1         2         3         4         5    6    7    8\n",
       "0 -0.762878  0.612827 -0.703925  1.678099 -1.543287 -0.822648  0.0  1.0  0.0\n",
       "1 -0.149245 -1.239617  0.022691 -0.208186 -0.217334  2.106160  0.0  1.0  0.0\n",
       "2  0.710636  0.365710  0.429596  0.288205 -0.360680 -0.404247  0.0  1.0  0.0\n",
       "3 -0.052263 -1.239617  0.371467  0.288205  0.606907  1.687759  0.0  1.0  0.0\n",
       "4 -0.755575  0.203390 -0.587666 -0.307465 -0.145661 -0.822648  0.0  1.0  0.0"
      ]
     },
     "execution_count": 42,
     "metadata": {},
     "output_type": "execute_result"
    }
   ],
   "source": [
    "X.head()"
   ]
  },
  {
   "cell_type": "code",
   "execution_count": 43,
   "id": "40265661",
   "metadata": {},
   "outputs": [],
   "source": [
    "# Linear Regression\n",
    "\n",
    "model = sm.OLS(Y,X).fit()"
   ]
  },
  {
   "cell_type": "code",
   "execution_count": 44,
   "id": "dfd0a25a",
   "metadata": {},
   "outputs": [
    {
     "name": "stdout",
     "output_type": "stream",
     "text": [
      "                            OLS Regression Results                            \n",
      "==============================================================================\n",
      "Dep. Variable:     Total Claim Amount   R-squared:                       0.528\n",
      "Model:                            OLS   Adj. R-squared:                  0.527\n",
      "Method:                 Least Squares   F-statistic:                     1274.\n",
      "Date:                Wed, 01 Mar 2023   Prob (F-statistic):               0.00\n",
      "Time:                        20:09:43   Log-Likelihood:                -61340.\n",
      "No. Observations:                9134   AIC:                         1.227e+05\n",
      "Df Residuals:                    9125   BIC:                         1.228e+05\n",
      "Df Model:                           8                                         \n",
      "Covariance Type:            nonrobust                                         \n",
      "==============================================================================\n",
      "                 coef    std err          t      P>|t|      [0.025      0.975]\n",
      "------------------------------------------------------------------------------\n",
      "0             -4.7602      2.279     -2.088      0.037      -9.228      -0.292\n",
      "1            -99.8795      2.093    -47.722      0.000    -103.982     -95.777\n",
      "2            184.0161      2.279     80.759      0.000     179.550     188.483\n",
      "3             -1.1178      2.093     -0.534      0.593      -5.221       2.986\n",
      "4             -3.0410      2.093     -1.453      0.146      -7.143       1.061\n",
      "5              0.4096      2.092      0.196      0.845      -3.691       4.510\n",
      "6            429.5886      6.499     66.101      0.000     416.849     442.328\n",
      "7            419.4591      2.493    168.278      0.000     414.573     424.345\n",
      "8            489.7795      4.757    102.961      0.000     480.455     499.104\n",
      "==============================================================================\n",
      "Omnibus:                     1040.612   Durbin-Watson:                   1.978\n",
      "Prob(Omnibus):                  0.000   Jarque-Bera (JB):             7182.418\n",
      "Skew:                           0.319   Prob(JB):                         0.00\n",
      "Kurtosis:                       7.297   Cond. No.                         3.68\n",
      "==============================================================================\n",
      "\n",
      "Notes:\n",
      "[1] Standard Errors assume that the covariance matrix of the errors is correctly specified.\n"
     ]
    }
   ],
   "source": [
    "print(model.summary())"
   ]
  },
  {
   "cell_type": "code",
   "execution_count": 46,
   "id": "55be1f27",
   "metadata": {},
   "outputs": [],
   "source": [
    "from sklearn.model_selection import train_test_split\n",
    "from sklearn.metrics import r2_score"
   ]
  },
  {
   "cell_type": "code",
   "execution_count": 47,
   "id": "fb1280f8",
   "metadata": {},
   "outputs": [],
   "source": [
    "# Train-test split.\n",
    "\n",
    "X_train, X_test, y_train, y_test = train_test_split(X,Y,test_size=0.4, random_state=100)"
   ]
  },
  {
   "cell_type": "code",
   "execution_count": 48,
   "id": "550bd13d",
   "metadata": {},
   "outputs": [],
   "source": [
    "model_2 = sm.OLS(y_train,X_train).fit()"
   ]
  },
  {
   "cell_type": "code",
   "execution_count": 49,
   "id": "8db52ca3",
   "metadata": {},
   "outputs": [],
   "source": [
    "predictions = model.predict(X_test)"
   ]
  },
  {
   "cell_type": "code",
   "execution_count": 50,
   "id": "d4a5cdde",
   "metadata": {},
   "outputs": [
    {
     "data": {
      "text/plain": [
       "0.5001685000582069"
      ]
     },
     "execution_count": 50,
     "metadata": {},
     "output_type": "execute_result"
    }
   ],
   "source": [
    "# R2\n",
    "\n",
    "r2_score(y_test, predictions)"
   ]
  },
  {
   "cell_type": "code",
   "execution_count": 51,
   "id": "155bfd40",
   "metadata": {},
   "outputs": [
    {
     "name": "stdout",
     "output_type": "stream",
     "text": [
      "39713.06509746663\n"
     ]
    }
   ],
   "source": [
    "# MSE\n",
    "\n",
    "from sklearn.metrics import mean_squared_error\n",
    "\n",
    "mse = mean_squared_error(y_test, predictions)\n",
    "\n",
    "print (mse)"
   ]
  },
  {
   "cell_type": "code",
   "execution_count": 52,
   "id": "34fbcb69",
   "metadata": {},
   "outputs": [
    {
     "name": "stdout",
     "output_type": "stream",
     "text": [
      "199.28137167700004\n"
     ]
    }
   ],
   "source": [
    "# RMSE \n",
    "\n",
    "import math\n",
    "\n",
    "rmse = math.sqrt(mse)\n",
    "print (rmse)"
   ]
  },
  {
   "cell_type": "code",
   "execution_count": 53,
   "id": "610187f1",
   "metadata": {},
   "outputs": [
    {
     "name": "stdout",
     "output_type": "stream",
     "text": [
      "143.24788768025613\n"
     ]
    }
   ],
   "source": [
    "# MAE\n",
    "\n",
    "from sklearn.metrics import mean_absolute_error\n",
    "\n",
    "mae = mean_absolute_error(y_test,predictions)\n",
    "print (mae)"
   ]
  },
  {
   "cell_type": "code",
   "execution_count": 54,
   "id": "64956d82",
   "metadata": {},
   "outputs": [
    {
     "data": {
      "text/plain": [
       "count    9134.000000\n",
       "mean      434.088794\n",
       "std       290.500092\n",
       "min         0.099007\n",
       "25%       272.258244\n",
       "50%       383.945434\n",
       "75%       547.514839\n",
       "max      2893.239678\n",
       "Name: Total Claim Amount, dtype: float64"
      ]
     },
     "execution_count": 54,
     "metadata": {},
     "output_type": "execute_result"
    }
   ],
   "source": [
    "Y.describe()"
   ]
  },
  {
   "cell_type": "code",
   "execution_count": null,
   "id": "222cc6dd",
   "metadata": {},
   "outputs": [],
   "source": [
    "# The average claim amount is 434.088794 euros so using the RSME value of 199.28137167700004 euros and comparing\n",
    "# with the previous value, I get an error of prediction of approximately 50%, which it can conclude that the model\n",
    "# is not a good model to apply."
   ]
  }
 ],
 "metadata": {
  "kernelspec": {
   "display_name": "Python 3 (ipykernel)",
   "language": "python",
   "name": "python3"
  },
  "language_info": {
   "codemirror_mode": {
    "name": "ipython",
    "version": 3
   },
   "file_extension": ".py",
   "mimetype": "text/x-python",
   "name": "python",
   "nbconvert_exporter": "python",
   "pygments_lexer": "ipython3",
   "version": "3.9.13"
  }
 },
 "nbformat": 4,
 "nbformat_minor": 5
}
